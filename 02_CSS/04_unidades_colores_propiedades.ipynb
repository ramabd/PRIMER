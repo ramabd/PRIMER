{
 "cells": [
  {
   "cell_type": "markdown",
   "metadata": {},
   "source": [
    "[![imagenes/pythonista.png](imagenes/pythonista.png)](https://pythonista.io)"
   ]
  },
  {
   "cell_type": "markdown",
   "metadata": {},
   "source": [
    "## Unidades de medida.\n",
    "\n",
    "Es posible utilizar varias unidades de medida para definir los atributos en una regla de hoja de estilos.\n",
    "\n",
    "### Unidades cuantitativas.\n",
    "\n",
    "Los pixeles (*px*) son la medida por defecto para definir alto (*height*), largo, ancho o grosor (*width*) posición (*left*, *right*, *bottom*, *top*) e incluso tamaño de la fuente tipográfica (*font-size*), entre otras, cuando se trata de desplegar contenidos en dispositivos tales como monitores.\n",
    "\n",
    "Además de los pixeles, es posible utilizar unidades como centímetros (*cm*), milímetros (*mm*), pulgadas (*in*), puntos (*pt*) e incluso picas (*pc*) cuando se trata de medios de impresión. Aún cuando es posible usar estas medidas para monitores, no se recomienda su aplicación. \n",
    "\n",
    "### Unidades relativas.\n",
    "\n",
    "* La medida *em* corresponde a las dimensiones del caracter \"*m\"* de la fuente tipográfica usada por el elemento que contiene al elemento al que se le aplica la regla de estilo. Su uso es primordialmente para fuentes tipográficas. *1 em* implica que el tamaño de la fuente del contenedor y del elemento es el mismo.\n",
    "* Porcentajes (*%*), los cuales están en función de las dimensiones del elemento contenedor del elemento al que se le aplica la regla de estilo. Estas unidades permiten que el contenido se ajuste a las dimensiones del medio en el que se despliega el contenido."
   ]
  },
  {
   "cell_type": "markdown",
   "metadata": {},
   "source": [
    "## Definición de colores.\n",
    "\n",
    "Se aplican principalmente en las propiedades:\n",
    "* Color del elemento (*color*).\n",
    "* Color de fondo (*background-color*).\n",
    "* Color de borde (*border-color*).\n",
    "\n",
    "### Colores por nombres.\n",
    "\n",
    " La especificación HTML5 identifica varios colores por nombre.  La lista de éstos puede ser consultada desde https://www.w3schools.com/tags/ref_colornames.asp\n",
    " \n",
    "### Valores RGB.\n",
    "\n",
    "Estos valores corresponden a la mezcla de los colores Rojo, Verde y Azul en una escala del 0 al 255.\n",
    "\n",
    "Por ejemplo, el color negro (*black*), corresponde a *rgb(0,0,0)* y el color blanco (white), corresponde a *rgb(255,255,255)*.\n",
    "\n",
    "### Código hexadecimal.\n",
    "\n",
    " El código hexadecimal no es otra cosa que la combinación de los números RGB, pero en pares hexadecimales.\n",
    "\n",
    "Por ejemplo, el color negro (*black*), corresponde a *#000000* y el color blanco (*white*), corresponde a *#FFFFFF*.\n",
    "\n",
    "### HSL (para CSS3).\n",
    "\n",
    "En el caso de CSS3 los colores también pueden ser definidos por la combinación HUE, Saturación, Luminosidad (HSL) en el que H va del 0 a 360, y la saturación y luminosidad se mide en porcentaje.\n",
    "\n",
    "Por ejemplo, *hsl(80,0%,0%)* corresponde a *green*.\n",
    "\n",
    "Es posible utilizar la siguiente herramienta para seleccionar colores: \n",
    "\n",
    "https://www.w3schools.com/colors/colors_picker.asp"
   ]
  },
  {
   "cell_type": "markdown",
   "metadata": {},
   "source": [
    "## Propiedades de líneas.\n",
    "\n",
    "###  Ancho (*width*): \n",
    "\n",
    "Además de las medidas en pixeles y em se pueden utilizar.\n",
    "* *thin*\n",
    "* *medium* \n",
    "* *thick*\n",
    "\n",
    "### Estilo (*style*):\n",
    "* *solid*, para una línea sólida.\n",
    "* *dotted*, para líneas punteadas.\n",
    "* *dashed*, para un estilo de línea segmentada.\n",
    "* *double*, para líneas dobles.\n",
    "* *hidden*, para líneas que no se ven, pero tienen un ancho definido.\n",
    "* *none*, sin líneas.\n",
    "* *groove*, *ridge*, *inset* y *outset* son líneas con efectos 3D.\n"
   ]
  },
  {
   "cell_type": "markdown",
   "metadata": {},
   "source": [
    "<p style=\"text-align: center\"><a rel=\"license\" href=\"http://creativecommons.org/licenses/by/4.0/\"><img alt=\"Licencia Creative Commons\" style=\"border-width:0\" src=\"https://i.creativecommons.org/l/by/4.0/80x15.png\" /></a><br />Esta obra está bajo una <a rel=\"license\" href=\"http://creativecommons.org/licenses/by/4.0/\">Licencia Creative Commons Atribución 4.0 Internacional</a>.</p>\n",
    "<p style=\"text-align: center\">&copy; José Luis Chiquete Valdivieso. 2019.</p>"
   ]
  }
 ],
 "metadata": {
  "kernelspec": {
   "display_name": "Python 3",
   "language": "python",
   "name": "python3"
  },
  "language_info": {
   "codemirror_mode": {
    "name": "ipython",
    "version": 3
   },
   "file_extension": ".py",
   "mimetype": "text/x-python",
   "name": "python",
   "nbconvert_exporter": "python",
   "pygments_lexer": "ipython3",
   "version": "3.7.3"
  }
 },
 "nbformat": 4,
 "nbformat_minor": 2
}
