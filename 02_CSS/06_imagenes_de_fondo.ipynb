{
 "cells": [
  {
   "cell_type": "markdown",
   "metadata": {},
   "source": [
    "[![imagenes/pythonista.png](imagenes/pythonista.png)](https://pythonista.io)"
   ]
  },
  {
   "cell_type": "markdown",
   "metadata": {},
   "source": [
    "## Propiedades de las imágenes (*img*).\n",
    "\n",
    "Las imágenes, al igual que todos los elementos de HTML se basan en el modelo de caja, por lo que todas las propiedades de tamaño, posición y alineación aplican de igual manera."
   ]
  },
  {
   "cell_type": "markdown",
   "metadata": {},
   "source": [
    "## Imágenes de fondo.\n",
    "\n",
    "CSS permite utilizar imágenes como fondo de un elemento.\n",
    "\n",
    "### Selección de imagen.\n",
    "\n",
    "Para designar una imagen como fondo de un elemento se utiliza la propiedad *background-image* con la siguiente sintaxis:\n",
    "\n",
    "```\n",
    "background-image: url(\"(URL de la imagen)\");\n",
    "```\n",
    "\n",
    "### Repetición de la imagen de fondo.\n",
    "\n",
    "\n",
    "Para indicar la forma en la que imagen se repite en el fondo se utiliza la propiedad *background-repeat* con los siguiente valores:\n",
    "\n",
    "* *repeat* se repite vertical y horizontalmente.\n",
    "* *repeat-x* se repite horizontalmente.\n",
    "* *repeat-y* se repite verticalmente.\n",
    "* *no-repeat* no se repite.\n",
    "\n",
    "### Fijado de la imagen.\n",
    "\n",
    "Para indicar la forma en la que una imagen de fondo permanecerá o no  en la misma posición de la pantalla se utiliza *background-attachment* con los siguientes valores:\n",
    "\n",
    "* *fixed* lo que hace que la imagen se quede fija en el fondo.\n",
    "* *scroll* lo que hace que la imagen suba o baje junto con el resto de los elementos de la página.\n",
    "\n",
    "### Posición de la imagen de fondo.\n",
    "\n",
    "Para indicar la posición en la que se situará la imagen, se utiliza la propiedad *background-position* y los valores se basan en el modelo de caja.\n",
    "\n",
    "* *left top*\n",
    "* *left center*\n",
    "* *left bottom*\n",
    "* *center top*\n",
    "* *center center*\n",
    "* *center bottom*\n",
    "* *right top*\n",
    "* *right center*\n",
    "* *right bottom*"
   ]
  },
  {
   "cell_type": "markdown",
   "metadata": {},
   "source": [
    "<p style=\"text-align: center\"><a rel=\"license\" href=\"http://creativecommons.org/licenses/by/4.0/\"><img alt=\"Licencia Creative Commons\" style=\"border-width:0\" src=\"https://i.creativecommons.org/l/by/4.0/80x15.png\" /></a><br />Esta obra está bajo una <a rel=\"license\" href=\"http://creativecommons.org/licenses/by/4.0/\">Licencia Creative Commons Atribución 4.0 Internacional</a>.</p>\n",
    "<p style=\"text-align: center\">&copy; José Luis Chiquete Valdivieso. 2019.</p>"
   ]
  }
 ],
 "metadata": {
  "kernelspec": {
   "display_name": "Python 3",
   "language": "python",
   "name": "python3"
  },
  "language_info": {
   "codemirror_mode": {
    "name": "ipython",
    "version": 3
   },
   "file_extension": ".py",
   "mimetype": "text/x-python",
   "name": "python",
   "nbconvert_exporter": "python",
   "pygments_lexer": "ipython3",
   "version": "3.6.5"
  }
 },
 "nbformat": 4,
 "nbformat_minor": 2
}
