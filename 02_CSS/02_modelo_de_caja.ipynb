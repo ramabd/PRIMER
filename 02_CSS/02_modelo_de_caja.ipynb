{
 "cells": [
  {
   "cell_type": "markdown",
   "metadata": {},
   "source": [
    "[![imagenes/pythonista.png](imagenes/pythonista.png)](https://pythonista.io)"
   ]
  },
  {
   "cell_type": "markdown",
   "metadata": {},
   "source": [
    "El modelo de caja es una metáfora sobre la cual practicamente todos los elementos de un documento HTML se basan.\n",
    "\n",
    "El modelo de caja define las características básicas de un elemento con respecto a si mismo y al elemento  que lo  contiene:\n",
    "\n",
    "La caja está conformada por:\n",
    "* El contenido del elemento.\n",
    "* El espaciado interior o \"padding\", el cual corresponde al espacio entre el contenido del elemento y su borde.\n",
    "* El borde del elemento, el cual corresponde a los límites del elemento y su \"padding\".  El border no es una superficie, sino un perímetro delimitado por  una línea. Se identifica por su nombre en inglés: *border*.\n",
    "* El margen de un elemento, que corresponde al espacio que exite entre el borde de un elemento y el elemento que lo contiene. Se identifica por su nombre en inglés: *margin*."
   ]
  },
  {
   "cell_type": "markdown",
   "metadata": {},
   "source": [
    "**Ejemplo:**\n",
    "\n",
    "Esta imagen representa el modelo de caja de un elemento desplegado por el inspector de elementos de Firefox. \n",
    "\n",
    "![imagenes/caja.png](imagenes/caja.png)\n",
    "\n",
    "* Al centro se aprecia el espacio que ocupa el elemento en color azul claro.\n",
    "* El área morada corresponde al \"padding\" del elemento.\n",
    "* El recuadro que enmarca al área morada es el borde del elemento.\n",
    "* El área amarilla corresponde al margen del elemento."
   ]
  },
  {
   "cell_type": "markdown",
   "metadata": {},
   "source": [
    "## Orientación relativa:\n",
    "\n",
    "Siendo que los elementos se encuentan en un ámbito de dos dimensiones, se pueden definir su orientación como:\n",
    "\n",
    "* *left* para indicar que se refiere al atributo de un componente a la izquierda.\n",
    "* *right* para indicar que se refiere al atributo de un componente a la derecha.\n",
    "* *top* para indicar que se refiere al atributo de un componente en la parte superior.\n",
    "* *bottom* para indicar que se refiere al atributo de un componente en la parte inferior.\n",
    "\n",
    "De esta forma, las superficies como *margin*, *padding* pueden tener dimesiones distintas para cada lado."
   ]
  },
  {
   "cell_type": "markdown",
   "metadata": {},
   "source": [
    "**Ejemplos:**\n",
    "\n",
    "* *border-left* se refiere a la línea vertical que forma la parte izquierda del borde.\n",
    "* *padding-top* se refiere a la parte superior del \"padding\".\n",
    "* *margin-bottom* se refiere a la parte inferios del margen.\n",
    "* *right* se refiere a la parte derecha del elemento contenedor."
   ]
  },
  {
   "cell_type": "markdown",
   "metadata": {},
   "source": [
    "## Atributos comunes.\n",
    "\n",
    "Lso componentes de una caja tiene los siguientes elementos comunes:\n",
    "\n",
    "* *color*, el cual correpsonde al color del texto del elemento. En el caso de *border* se refiere al color de la línea.\n",
    "* *background*, el cual corresponde a las características del fondo.\n",
    "* *width*,  el cual corresponde al ancho del elemento. En el caso de *border* se refiere al ancho de la línea.\n",
    "* *height*, el cual correspode a la altura de un elemento.\n",
    "* *style*, el cual corresponde a une estilo de texto o de línea, dependiendo del caso.\n"
   ]
  },
  {
   "cell_type": "markdown",
   "metadata": {},
   "source": [
    "<p style=\"text-align: center\"><a rel=\"license\" href=\"http://creativecommons.org/licenses/by/4.0/\"><img alt=\"Licencia Creative Commons\" style=\"border-width:0\" src=\"https://i.creativecommons.org/l/by/4.0/80x15.png\" /></a><br />Esta obra está bajo una <a rel=\"license\" href=\"http://creativecommons.org/licenses/by/4.0/\">Licencia Creative Commons Atribución 4.0 Internacional</a>.</p>\n",
    "<p style=\"text-align: center\">&copy; José Luis Chiquete Valdivieso. 2019.</p>"
   ]
  }
 ],
 "metadata": {
  "kernelspec": {
   "display_name": "Python 3",
   "language": "python",
   "name": "python3"
  },
  "language_info": {
   "codemirror_mode": {
    "name": "ipython",
    "version": 3
   },
   "file_extension": ".py",
   "mimetype": "text/x-python",
   "name": "python",
   "nbconvert_exporter": "python",
   "pygments_lexer": "ipython3",
   "version": "3.5.2"
  }
 },
 "nbformat": 4,
 "nbformat_minor": 2
}
