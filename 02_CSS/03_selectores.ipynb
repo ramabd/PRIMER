{
 "cells": [
  {
   "cell_type": "markdown",
   "metadata": {},
   "source": [
    "[![imagenes/pythonista.png](imagenes/pythonista.png)](https://pythonista.io)"
   ]
  },
  {
   "cell_type": "markdown",
   "metadata": {},
   "source": [
    "## Selectores.\n",
    "\n",
    "Los selectores son expresiones que permiten identificar uno o varios elementos dentro de un documento HTML e incluso algunos eventos.\n",
    "\n",
    "Los selectores son un elemento clave de las reglas de estilo, pero su aplicación va más allá de este ámbito. Los selectores también son muy uitlizados para el desarrollo de aplicaciones web.\n",
    "\n",
    "Para conocer más sobre la sintaxis de de selectores es posible consultar la siguiente liga:\n",
    "\n",
    "https://www.w3schools.com/cssref/css_selectors.asp\n",
    "\n",
    "A continuación se describir´an y ejemplificarán algunos de los más comunes."
   ]
  },
  {
   "cell_type": "markdown",
   "metadata": {},
   "source": [
    "## Selectores de elementos.\n",
    "\n",
    "Los selectores de elementos permiten identificar a todos los elementos de cierto tipo en un documento HTML por el nombre de las etiquetas.\n",
    "\n",
    "Para seleccionar a todos los elementos de un documento se utiliza el selector _*_."
   ]
  },
  {
   "cell_type": "markdown",
   "metadata": {},
   "source": [
    "**Ejemplos:**"
   ]
  },
  {
   "cell_type": "markdown",
   "metadata": {},
   "source": [
    "* El selector para todos los elementos *&lt;p&gt;* es *p*.\n",
    "* El selector para todos los elementos *&lt;a&gt;* es *a*.\n",
    "* El selector para todos los elementos *&lt;ol&gt;* es *ol*.\n",
    "* El selector para todos los elementos *&lt;li&gt;* es *li*.\n",
    "* El selector para todos los elementos *&lt;body&gt;* es *body*.\n"
   ]
  },
  {
   "cell_type": "code",
   "execution_count": 2,
   "metadata": {},
   "outputs": [
    {
     "data": {
      "text/html": [
       "<style>\n",
       "    p {\n",
       "        background-color: LightCyan;\n",
       "    }\n",
       "</style>"
      ],
      "text/plain": [
       "<IPython.core.display.HTML object>"
      ]
     },
     "metadata": {},
     "output_type": "display_data"
    }
   ],
   "source": [
    "%%html\n",
    "<style>\n",
    "    p {\n",
    "        background-color: LightCyan;\n",
    "    }\n",
    "</style>"
   ]
  },
  {
   "cell_type": "code",
   "execution_count": 3,
   "metadata": {},
   "outputs": [
    {
     "data": {
      "text/html": [
       "<style>\n",
       "    p {\n",
       "        background-color: white;\n",
       "    }\n",
       "</style>"
      ],
      "text/plain": [
       "<IPython.core.display.HTML object>"
      ]
     },
     "metadata": {},
     "output_type": "display_data"
    }
   ],
   "source": [
    "%%html\n",
    "<style>\n",
    "    p {\n",
    "        background-color: white;\n",
    "    }\n",
    "</style>"
   ]
  },
  {
   "cell_type": "code",
   "execution_count": 4,
   "metadata": {},
   "outputs": [
    {
     "data": {
      "text/html": [
       "<style>\n",
       "    p {\n",
       "        background-color: green;\n",
       "    }\n",
       "</style>"
      ],
      "text/plain": [
       "<IPython.core.display.HTML object>"
      ]
     },
     "metadata": {},
     "output_type": "display_data"
    }
   ],
   "source": [
    "%%html\n",
    "<style>\n",
    "    p {\n",
    "        background-color: green;\n",
    "    }\n",
    "</style>"
   ]
  },
  {
   "cell_type": "code",
   "execution_count": 5,
   "metadata": {},
   "outputs": [
    {
     "data": {
      "text/html": [
       "<style>\n",
       "    p {\n",
       "        background-color: white;\n",
       "    }\n",
       "</style>"
      ],
      "text/plain": [
       "<IPython.core.display.HTML object>"
      ]
     },
     "metadata": {},
     "output_type": "display_data"
    }
   ],
   "source": [
    "%%html\n",
    "<style>\n",
    "    p {\n",
    "        background-color: white;\n",
    "    }\n",
    "</style>"
   ]
  },
  {
   "cell_type": "markdown",
   "metadata": {},
   "source": [
    "## Selectores por identificador.\n",
    "\n",
    "Para encontrar un elemento a partir de si atributo *id* se utiliza el signo de gato (*#*) seguido del valor asignado a *id*:\n",
    "\n",
    "```\n",
    "#(valor)\n",
    "```"
   ]
  },
  {
   "cell_type": "markdown",
   "metadata": {},
   "source": [
    "**Ejemplo:**"
   ]
  },
  {
   "cell_type": "markdown",
   "metadata": {},
   "source": [
    "Para identificar a un elemento que tiene el atributo *id=\"encabezado\", se utiliza el selector *#encabezado*."
   ]
  },
  {
   "cell_type": "code",
   "execution_count": 6,
   "metadata": {},
   "outputs": [
    {
     "data": {
      "text/html": [
       "<div id=\"ejemplo_1\">Hola.</div>"
      ],
      "text/plain": [
       "<IPython.core.display.HTML object>"
      ]
     },
     "metadata": {},
     "output_type": "display_data"
    }
   ],
   "source": [
    "%%html\n",
    "<div id=\"ejemplo_1\">Hola.</div>"
   ]
  },
  {
   "cell_type": "code",
   "execution_count": 7,
   "metadata": {},
   "outputs": [
    {
     "data": {
      "text/html": [
       "<style>\n",
       "    #ejemplo_1 {\n",
       "        background-color:blue;\n",
       "        width: 50px;\n",
       "        height: 50px;\n",
       "        color: white;\n",
       "    }\n",
       "</style>"
      ],
      "text/plain": [
       "<IPython.core.display.HTML object>"
      ]
     },
     "metadata": {},
     "output_type": "display_data"
    }
   ],
   "source": [
    "%%html\n",
    "<style>\n",
    "    #ejemplo_1 {\n",
    "        background-color:blue;\n",
    "        width: 50px;\n",
    "        height: 50px;\n",
    "        color: white;\n",
    "    }\n",
    "</style>"
   ]
  },
  {
   "cell_type": "markdown",
   "metadata": {},
   "source": [
    "## Selectores por clase.\n",
    "\n",
    "Para encontrar los elementos de una clase a partir de su atributo *class* se utiliza el punto (_._) seguido del valor asignado a *class*:\n",
    "\n",
    "Para encontrar a todos los elementos de una clase se utiliza:\n",
    "\n",
    "```\n",
    ".(clase)\n",
    "```\n",
    "\n",
    "Para encontrar a los elementos de un tipo específico que comparten una clase se utiliza:\n",
    "\n",
    "```\n",
    "(selector de elemento).(clase)\n",
    "```"
   ]
  },
  {
   "cell_type": "markdown",
   "metadata": {},
   "source": [
    "**Ejemplos:**"
   ]
  },
  {
   "cell_type": "markdown",
   "metadata": {},
   "source": [
    "* Para identificar a todos los elementos con el atributo *class=\"solitario\"*, se utiliza el selector *.solitario*.\n",
    "\n",
    "* Para identificar a todos los elementos de tipo *p* con el atributo *class=\"solitario\"*, se utiliza el selector *p.solitario*."
   ]
  },
  {
   "cell_type": "code",
   "execution_count": 8,
   "metadata": {},
   "outputs": [
    {
     "data": {
      "text/html": [
       "<div id=\"ejemplo_2\">\n",
       "    <p> Este es un párrafo normal.</p>\n",
       "    <p class=\"clase_1\"> Este es un párrafo de una clase especial.</p>\n",
       "    <p> Las clases aplican a \n",
       "    <span class=\"clase_1\">cualquier elemento.</span>\n",
       "     de un documento.</p>\n",
       "    <p>Las clases son muy útiles.</p>\n",
       "</div>"
      ],
      "text/plain": [
       "<IPython.core.display.HTML object>"
      ]
     },
     "metadata": {},
     "output_type": "display_data"
    }
   ],
   "source": [
    "%%html\n",
    "<div id=\"ejemplo_2\">\n",
    "    <p> Este es un párrafo normal.</p>\n",
    "    <p class=\"clase_1\"> Este es un párrafo de una clase especial.</p>\n",
    "    <p> Las clases aplican a \n",
    "    <span class=\"clase_1\">cualquier elemento.</span>\n",
    "     de un documento.</p>\n",
    "    <p>Las clases son muy útiles.</p>\n",
    "</div>"
   ]
  },
  {
   "cell_type": "code",
   "execution_count": 10,
   "metadata": {},
   "outputs": [
    {
     "data": {
      "text/html": [
       "<style>\n",
       "    .clase_1{\n",
       "        background-color: Gold;\n",
       "        color: blue;\n",
       "    }"
      ],
      "text/plain": [
       "<IPython.core.display.HTML object>"
      ]
     },
     "metadata": {},
     "output_type": "display_data"
    }
   ],
   "source": [
    "%%html\n",
    "<style>\n",
    "    .clase_1{\n",
    "        background-color: Gold;\n",
    "        color: blue;\n",
    "    }"
   ]
  },
  {
   "cell_type": "markdown",
   "metadata": {},
   "source": [
    "## Selectores por atributos.\n",
    "\n",
    "Es posible encontrar elementos que tengan un atributo específico mediante el uso de corchetes:\n",
    "\n",
    "```\n",
    "[(atributo)]\n",
    "```\n",
    "\n",
    "Para encontrar a los elementos que tengan un atributo con un valor específico se utiliza la sintaxis siguiente:\n",
    "\n",
    "```\n",
    "[(atributo) = (valor)]\n",
    "```\n",
    "\n",
    "En este caso, valor no lleva apóstrofes."
   ]
  },
  {
   "cell_type": "markdown",
   "metadata": {},
   "source": [
    "**Ejemplos:**\n",
    "\n",
    "* El selector *[peso]* buscará a todos los elementos que contengan al atributo *peso*.\n",
    "* El selector *[peso = 10]* buscará a todos los elementos que contengan al atributo *peso = \"10\"*."
   ]
  },
  {
   "cell_type": "markdown",
   "metadata": {},
   "source": [
    "## Eventos y condicionales.\n",
    "\n",
    "Los selectores también pueden detectar elementos que sean objeto  de un evento, o cumplan alguna condición predefinida.\n",
    "\n",
    "En este caso se utilizan los dos puntos (*:*)."
   ]
  },
  {
   "cell_type": "markdown",
   "metadata": {},
   "source": [
    "**Ejemplos:**"
   ]
  },
  {
   "cell_type": "markdown",
   "metadata": {},
   "source": [
    "* El selector *a:hover* se refiere a un elemento *&lt;a&gt;* cuando el puntero se encuentre sobre de él.\n",
    "* El selector *:not(p)* seleccionará a todos los elementos que no son *&lt;p&gt;*."
   ]
  },
  {
   "cell_type": "markdown",
   "metadata": {},
   "source": [
    "## Agrupamiento de varios selectores.\n",
    "\n",
    "Para identificar más de un selectores se utiliza la coma (*,*). De ese modo se puede aplicar una regla a distintos elementos."
   ]
  },
  {
   "cell_type": "markdown",
   "metadata": {},
   "source": [
    "**Ejemplo:**"
   ]
  },
  {
   "cell_type": "markdown",
   "metadata": {},
   "source": [
    "La regla *color=red;* se aplicará a todos los elementos *&lt;p&gt;*, *&lt;a&gt;* y al elemento con el atributo *id=\"identidad\" dentro de un documento HTML.\n",
    "```\n",
    "p, a, #identidad \n",
    "{\n",
    "    color = red;\n",
    "}\n",
    "```"
   ]
  },
  {
   "cell_type": "markdown",
   "metadata": {},
   "source": [
    "## Elementos dentro  de un elemento.\n",
    "\n",
    "Es posible identificar elementos contenidos en otro elemento utilizando un espacio."
   ]
  },
  {
   "cell_type": "markdown",
   "metadata": {},
   "source": [
    "**Ejemplo:**\n",
    "\n",
    "La regla *color=red;* se aplicará a los elementos *&lt;a&gt;* que estén dentro de un elemento *&lt;p&gt;*.\n",
    "\n",
    "```\n",
    "\n",
    "p a\n",
    "{\n",
    "    color = red;\n",
    "}\n",
    "```"
   ]
  },
  {
   "cell_type": "markdown",
   "metadata": {},
   "source": [
    "<p style=\"text-align: center\"><a rel=\"license\" href=\"http://creativecommons.org/licenses/by/4.0/\"><img alt=\"Licencia Creative Commons\" style=\"border-width:0\" src=\"https://i.creativecommons.org/l/by/4.0/80x15.png\" /></a><br />Esta obra está bajo una <a rel=\"license\" href=\"http://creativecommons.org/licenses/by/4.0/\">Licencia Creative Commons Atribución 4.0 Internacional</a>.</p>\n",
    "<p style=\"text-align: center\">&copy; José Luis Chiquete Valdivieso. 2019.</p>"
   ]
  }
 ],
 "metadata": {
  "kernelspec": {
   "display_name": "Python 3",
   "language": "python",
   "name": "python3"
  },
  "language_info": {
   "codemirror_mode": {
    "name": "ipython",
    "version": 3
   },
   "file_extension": ".py",
   "mimetype": "text/x-python",
   "name": "python",
   "nbconvert_exporter": "python",
   "pygments_lexer": "ipython3",
   "version": "3.7.0"
  }
 },
 "nbformat": 4,
 "nbformat_minor": 2
}
