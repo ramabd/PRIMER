{
 "cells": [
  {
   "cell_type": "markdown",
   "metadata": {},
   "source": [
    "[![imagenes/pythonista.png](imagenes/pythonista.png)](https://pythonista.io)"
   ]
  },
  {
   "cell_type": "markdown",
   "metadata": {},
   "source": [
    "# Atributos de identificación *id* y *class*."
   ]
  },
  {
   "cell_type": "markdown",
   "metadata": {},
   "source": [
    "Es muy común que un elemento o un conjunto de elementos dentro de un documento HTML sean diferenciados del resto de los elementos."
   ]
  },
  {
   "cell_type": "markdown",
   "metadata": {},
   "source": [
    "## El atributo *id*.\n",
    "\n",
    "Es posible distinguir a un elemento específico dentro de un documento HTML mediante el atributo *id*. Dicho atributo permite asignar un identificador único a un elemento.\n",
    "\n",
    "La sintaxis para asignar un identificador único a un elemento es al siguiente:\n",
    "\n",
    "```html\n",
    "<(elemento) id=\"(nombre)\">\n",
    "    ...\n",
    "    ...\n",
    "</(elemento)>\n",
    "```"
   ]
  },
  {
   "cell_type": "markdown",
   "metadata": {},
   "source": [
    "## El atributo *class*.\n",
    "\n",
    "El atributo *class* permite agrupar a diversos elementos dentro de un documento HTML mediante un identificador compartido. \n",
    "No es necesario que los elementos que comparten el identificador definido por el atributo *class* sean del mismo tipo."
   ]
  },
  {
   "cell_type": "markdown",
   "metadata": {},
   "source": [
    "## Uso de los atributos *id* y *class* en la aplicación de estilo.\n",
    "\n",
    "Uno de los usos más comunes de los atributos de identificación *id* y *class* es la de la aplicación de estilos.\n",
    "\n",
    "Las hojas de estilo se estudiarán más adelante. Sin embargo, con la finalidad de ilustrar el uso de los atributos *id* y *class* adelantaremos algunos conceptos.\n",
    "\n",
    "### Selectores.\n",
    "\n",
    "Los selectores en una hoja de estilo perimten aplicar ciertas reglas de estilo (color, tamaño, fuente tipográfica, etc.) a un objeto dentro de un documento HTML.\n",
    "\n",
    "El selector de un elemento con un atributo *id* específico se denota mediante la siguiente sintaxis:\n",
    "\n",
    "``` css\n",
    "#(identificador)\n",
    "```\n",
    "\n",
    "El selector de uno  o varios elementos que comparten un atributo *class* específico se denota mediante la siguiente sintaxis:\n",
    "\n",
    "``` css\n",
    ".(identificador)\n",
    "```"
   ]
  },
  {
   "cell_type": "markdown",
   "metadata": {},
   "source": [
    "**Ejemplo:**\n",
    "\n",
    "El siguiente código incluye el elemento *&lt;style*&gt;, el cual contiene las definición de estilos aplicable al elemento con el atributo *id=\"parrafo\"* y a todos los elementos que tengan el atributo *class=\"estilo\"*.\n",
    "\n",
    "Las reglas de estilo se aplicarán exclusivamente a los elementos que contengan los atributos definidos.\n",
    "\n",
    "``` html\n",
    "<!DOCTYPE html>\n",
    "<html>\n",
    "    <head>\n",
    "        <title>Ejemplo de id y class</title>\n",
    "        <meta charset=\"UTF-8\">\n",
    "        <meta name=\"description\" content=\"Apuntes Pythonista\">\n",
    "        <meta autor=\"josech\">\n",
    "        <style>\n",
    "            #parrafo\n",
    "            {\n",
    "                font-size: 1.5em;\n",
    "                font-style: bold;\n",
    "                color: red;\n",
    "            }\n",
    "            .estilo\n",
    "            {\n",
    "                font-style: italic;\n",
    "                color: green;\n",
    "            }\n",
    "        </style>\n",
    "    </head>\n",
    "    <body>\n",
    "        <p>Este es un ejemplo del uso de los atributos <em>id</em> y <em>class</em>.</p>\n",
    "        <h2> Ejemplo de uso del atributo <em>id</em>.</h2>\n",
    "        <p>El elemento &lt;id&gt; permite asignar un nombre único a un elemento de HTML.</p>\n",
    "        <p id=\"parrafo\">Puede diferenciar a un elemento de otros.</p>\n",
    "        <h2>Ejemplo de uso del atributo <em>class</em>.</h2>\n",
    "        <p>El atributo <em>class</em> puede asignar un identificador a más de un elemento de HTML.<br/>Esto es útil para.</p>\n",
    "        <ul>\n",
    "            <li class=\"estilo\">Homogenizar los atributos de grupos de elementos en un documento.</li>\n",
    "            <li>Permitir recopilar imformación de dichos elementos a partir del código.</li>\n",
    "        </ul>\n",
    "        <p class=\"estilo\">El atributo class puede ser utilizado incluso en elementos de tipo distinto.</p>\n",
    "    </body>\n",
    "</html>\n",
    "```"
   ]
  },
  {
   "cell_type": "markdown",
   "metadata": {},
   "source": [
    "El resultado se puede apreciar en el documento [ejemplos/ejemplo_id_class.htm](ejemplos/ejemplo_id_class.htm)."
   ]
  },
  {
   "cell_type": "markdown",
   "metadata": {},
   "source": [
    "<p style=\"text-align: center\"><a rel=\"license\" href=\"http://creativecommons.org/licenses/by/4.0/\"><img alt=\"Licencia Creative Commons\" style=\"border-width:0\" src=\"https://i.creativecommons.org/l/by/4.0/80x15.png\" /></a><br />Esta obra está bajo una <a rel=\"license\" href=\"http://creativecommons.org/licenses/by/4.0/\">Licencia Creative Commons Atribución 4.0 Internacional</a>.</p>\n",
    "<p style=\"text-align: center\">&copy; José Luis Chiquete Valdivieso. 2018.</p>"
   ]
  }
 ],
 "metadata": {
  "kernelspec": {
   "display_name": "Python 3",
   "language": "python",
   "name": "python3"
  },
  "language_info": {
   "codemirror_mode": {
    "name": "ipython",
    "version": 3
   },
   "file_extension": ".py",
   "mimetype": "text/x-python",
   "name": "python",
   "nbconvert_exporter": "python",
   "pygments_lexer": "ipython3",
   "version": "3.6.5"
  }
 },
 "nbformat": 4,
 "nbformat_minor": 2
}
