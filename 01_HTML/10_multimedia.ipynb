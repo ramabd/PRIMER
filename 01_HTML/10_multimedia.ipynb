{
 "cells": [
  {
   "cell_type": "markdown",
   "metadata": {},
   "source": [
    "[![imagenes/pythonista.png](imagenes/pythonista.png)](https://pythonista.io)"
   ]
  },
  {
   "cell_type": "markdown",
   "metadata": {},
   "source": [
    "## Soporte multimedia.\n",
    "\n",
    "Una de las adiciones más relevantes al estándar HTML5 es la gestión de medios tales como:\n",
    "\n",
    "* Reproducción nativa de formatos de audio, mediante el elemento *&lt;audio&gt;*.\n",
    "* Reproducción nativa de formatos de video, mediante el elemento *&lt;video&gt;*.\n",
    "* Manejo optimizado de imágenes con el elemento *&lt;picture&gt;* (se explorará en el apartado de CSS).\n",
    "* Dibujo y animación de gráficos mediante el elemento *&lt;canvas&gt;*.\n",
    "* Manejo de gráficos vectoriales mediante el elemento *&lt;svg&gt;*.\n",
    "\n",
    "En el caso de *&lt;canvas&gt;* y *&lt;svg&gt;*, los elementos son defindidos únicamente, pero su implementación se realiza con apoyo de Javascript.\n",
    "\n",
    "Para conocer un poco más sobre programación con Canvas, se recomienda consultar en https://developer.mozilla.org/es/docs/Web/API/Canvas_API/Tutorial.\n",
    "\n",
    "Para conocer un poco más sobre programación con Canvas, se recomienda consultar en https://developer.mozilla.org/es/docs/Web/SVG"
   ]
  },
  {
   "cell_type": "markdown",
   "metadata": {},
   "source": [
    "## El elemento *&lt;video&gt;*.\n",
    "\n",
    "El elemento *&lt;video&gt;* permite añadir un recuadro en el que se puedan reproducir archivos de video dentro de un documento HTML. \n",
    "    \n",
    "### Atributos.\n",
    "\n",
    "* *width* define el ancho de la ventana de reproducción.\n",
    "* *height* definen la altura de la ventana de reproducción.\n",
    "* *control* permite desplegar los controles de reproducción del video.\n",
    "* *autoplay* permite que el video se reproduzca de forma automática.\n",
    "* *loop* permite que la reproducción se reinicie al finalizar.\n",
    "* *muted* hace que la reproducción se realice sin audio habilitado.\n",
    "* *preload* hace que el navegador cargue el video junto con el documento HTML.\n",
    "* *poster* permite desplegar una imagen que aparecerá como vista previa del video indicando la URL en la que se encuentra.\n",
    "* *src* indica la localización del archivo de video a reproducir.\n",
    "* *type* indica el tipo de archivo/formato que se desea cargar.\n",
    "    \n",
    "### Formatos de archivo soportados.\n",
    "\n",
    "Estos son los principales formatos de archivos soportados y la forma en la que se deben de seleccionar con el atributo *type*:\n",
    "\n",
    "* MP4: *\"video/mp4\"*\n",
    "* WebM: *\"video/webm\"*\n",
    "* Ogg: *\"video/ogg\" *"
   ]
  },
  {
   "cell_type": "markdown",
   "metadata": {},
   "source": [
    "### El elemento  &lt;source&gt;.\n",
    "Debido a que no todos los navegadores soportan ciertos formatos de video y audio, además de parámetro *src* del elemento &lt;video&gt; es posible hacer referencia dentro del mismo elemento a distintos archivos con formatos distintos por medio del elemento &lt;source&gt;.\n",
    "\n",
    "El elemento &lt;source&gt; tambiéin incluye los atributos *src* y *type*."
   ]
  },
  {
   "cell_type": "markdown",
   "metadata": {},
   "source": [
    "**Ejemplo:**"
   ]
  },
  {
   "cell_type": "markdown",
   "metadata": {},
   "source": [
    "El documento HTML localizado en [ejemplos/video.html](ejemplos/video.html) contiene el siguiente código y ejecutará el video localizado en [multimedia/ejemplo.mp4](multimedia/ejemplo.mp4).\n",
    "\n",
    "``` html\n",
    "<!DOCTYPE html>\n",
    "<html>\n",
    "    <head>\n",
    "        <title>Video en HTML5</title>\n",
    "        <meta  charset=\"UTF-8\">\n",
    "    </head>\n",
    "    <body>\n",
    "        <h1>Ejemplo de video embebido en un doumento HTML5</h1>\n",
    "        <p> A continuación se presenta una ventana de reproducción de 300x200 pixeles\n",
    "            que se reproduce y repite automáticamente, sin sonido por defecto.</p>\n",
    "        <video width=\"300\" height=\"200\" controls autoplay loop muted> <source src=\"../multimedia/ejemplo.mp4\" type=\"video/mp4\"> Video. </video>\n",
    "    </body>\n",
    "</html>\n",
    "```"
   ]
  },
  {
   "cell_type": "markdown",
   "metadata": {},
   "source": [
    "## El elemento *&lt;audio&gt;*.\n",
    "\n",
    "El elemento *&lt;audio&gt;* permite añadir un recuadro en el que se puedan reproducir archivos de audio dentro de un documento HTML. \n",
    "    \n",
    "### Atributos.\n",
    "\n",
    "* *width* define el ancho de la ventana de reproducción.\n",
    "* *height* definen la altura de la ventana de reproducción.\n",
    "* *control* permite desplegar los controles de reproducción.\n",
    "* *autoplay* permite que el contenido se reproduzca de forma automática.\n",
    "* *loop* permite que la reproducción se reinicie al finalizar.\n",
    "* *muted* hace que la reproducción se realice sin audio habilitado.\n",
    "* *preload* hace que el navegador cargue el contenido junto con el documento HTML.\n",
    "* *poster* permite desplegar una imagen que aparecerá como vista previa indicando la URL en la que se encuentra.\n",
    "* *src* indica la localización del archivo a reproducir.\n",
    "* *type* indica el tipo de archivo/formato que se desea cargar.\n",
    "    \n",
    "### Formatos de archivo soportados.\n",
    "\n",
    "Estos son los principales formatos de archivos soportados y la forma en la que se deben de seleccionar con el atributo *type*:\n",
    "\n",
    "* MPEG: *\"audio/mpeg\"*\n",
    "* WAV: *\"audio/wav\"*\n",
    "* Ogg: *\"audio/ogg\" *\n",
    "\n",
    "Este elemento también puede contener varios elementos *&lt;source&gt;*."
   ]
  },
  {
   "cell_type": "markdown",
   "metadata": {},
   "source": [
    "## Contenidos empotrados.\n",
    "\n",
    "Existen algunas herramientas como Adobe Flash Player que pueden ser incluídos en un documento HTML.\n",
    "\n",
    "Este tipo de adiciones o plugins pueden incrustarse mediante los elementos:\n",
    "\n",
    "* *&lt;object&gt;*, el cual define un espacio para el plugin.\n",
    "* *&lt;param&gt;*, el cual define los parámetros del plugin.\n",
    "* *&lt;embed&gt;*, el cual contiene el código para ejecutar el plugin."
   ]
  },
  {
   "cell_type": "markdown",
   "metadata": {},
   "source": [
    "## Incrustando un marco con *&lt;iframe&gt;*.\n",
    "\n",
    "Es posible crear un marco quen hace referencia a un recurso externo mediante el elemento *&lt;iframe&gt;*.\n",
    "\n",
    "### Atributos.\n",
    "* *width* define el ancho de la ventana de reproducción.\n",
    "* *height* definen la altura de la ventana de reproducción.\n",
    "* *src* indica la localización del recurso.\n",
    "* *name*, con el que se le puede asignar un nombre."
   ]
  },
  {
   "cell_type": "markdown",
   "metadata": {},
   "source": [
    "**Ejemplo:**"
   ]
  },
  {
   "cell_type": "markdown",
   "metadata": {},
   "source": [
    "El documento HTML localizado en [ejemplos/iframe.html](ejemplos/iframe.html) contiene el siguiente código y creará una ventana empotrada ligada a https://pythonista.io.\n",
    "\n",
    "**ADVERTENCIA:** Algunos servicios consideran el uso de los iframes como un riesgo de seguridad ye s posible que bloqueen el acceso al recurso.\n",
    "\n",
    "``` html\n",
    "<!DOCTYPE html>\n",
    "<html>\n",
    "    <head>\n",
    "        <title>Ejemplo de iframe</title>\n",
    "        <meta  charset=\"UTF-8\">\n",
    "    </head>\n",
    "    <body>\n",
    "        <h1>Ejemplo de un sitio empotrado en un documento HTML5</h1>\n",
    "        <p> A continuación se presenta una ventana de de 300x200 pixeles.</p>\n",
    "        <iframe width=\"300\" height=\"200\" src=\"https://pythonista.io\"></iframe>\n",
    "    </body>\n",
    "</html>\n",
    "```"
   ]
  },
  {
   "cell_type": "markdown",
   "metadata": {},
   "source": [
    "<p style=\"text-align: center\"><a rel=\"license\" href=\"http://creativecommons.org/licenses/by/4.0/\"><img alt=\"Licencia Creative Commons\" style=\"border-width:0\" src=\"https://i.creativecommons.org/l/by/4.0/80x15.png\" /></a><br />Esta obra está bajo una <a rel=\"license\" href=\"http://creativecommons.org/licenses/by/4.0/\">Licencia Creative Commons Atribución 4.0 Internacional</a>.</p>\n",
    "<p style=\"text-align: center\">&copy; José Luis Chiquete Valdivieso. 2018.</p>"
   ]
  }
 ],
 "metadata": {
  "kernelspec": {
   "display_name": "Python 3",
   "language": "python",
   "name": "python3"
  },
  "language_info": {
   "codemirror_mode": {
    "name": "ipython",
    "version": 3
   },
   "file_extension": ".py",
   "mimetype": "text/x-python",
   "name": "python",
   "nbconvert_exporter": "python",
   "pygments_lexer": "ipython3",
   "version": "3.6.5"
  }
 },
 "nbformat": 4,
 "nbformat_minor": 2
}
