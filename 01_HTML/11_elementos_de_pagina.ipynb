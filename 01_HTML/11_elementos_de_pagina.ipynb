{
 "cells": [
  {
   "cell_type": "markdown",
   "metadata": {},
   "source": [
    "[![imagenes/pythonista.png](imagenes/pythonista.png)](https://pythonista.io)"
   ]
  },
  {
   "cell_type": "markdown",
   "metadata": {},
   "source": [
    "## Elementos semánticos.\n",
    "Con la experiencia en el diseño de páginas web, se han identificado ciertas secciones dentro de un documento que se utilizan constantemente, por lo que en lugar de utilizar *&lt;div&gt;* e *&lt;id&gt;*, se les asignó su propio elemento."
   ]
  },
  {
   "cell_type": "markdown",
   "metadata": {},
   "source": [
    "![imagenes/img_sem_elements.gif](imagenes/img_sem_elements.gif)\n",
    "\n",
    "Fuente: https://www.w3schools.com/html/html5_semantic_elements.asp"
   ]
  },
  {
   "cell_type": "markdown",
   "metadata": {},
   "source": [
    "Estos elementos son:\n",
    "\n",
    "* *&lt;article&gt;*\n",
    "* *&lt;aside&gt;*\n",
    "* *&lt;details&gt;*\n",
    "* *&lt;figcaption&gt;*\n",
    "* *&lt;figure&gt;*\n",
    "* *&lt;footer&gt;*\n",
    "* *&lt;header&gt;*\n",
    "* *&lt;main&gt;*\n",
    "* *&lt;nav&gt;*\n",
    "* *&lt;section&gt;*\n",
    "* *&lt;summary&gt;*"
   ]
  },
  {
   "cell_type": "markdown",
   "metadata": {},
   "source": [
    "<p style=\"text-align: center\"><a rel=\"license\" href=\"http://creativecommons.org/licenses/by/4.0/\"><img alt=\"Licencia Creative Commons\" style=\"border-width:0\" src=\"https://i.creativecommons.org/l/by/4.0/80x15.png\" /></a><br />Esta obra está bajo una <a rel=\"license\" href=\"http://creativecommons.org/licenses/by/4.0/\">Licencia Creative Commons Atribución 4.0 Internacional</a>.</p>\n",
    "<p style=\"text-align: center\">&copy; José Luis Chiquete Valdivieso. 2018.</p>"
   ]
  }
 ],
 "metadata": {
  "kernelspec": {
   "display_name": "Python 3",
   "language": "python",
   "name": "python3"
  },
  "language_info": {
   "codemirror_mode": {
    "name": "ipython",
    "version": 3
   },
   "file_extension": ".py",
   "mimetype": "text/x-python",
   "name": "python",
   "nbconvert_exporter": "python",
   "pygments_lexer": "ipython3",
   "version": "3.6.5"
  }
 },
 "nbformat": 4,
 "nbformat_minor": 2
}
